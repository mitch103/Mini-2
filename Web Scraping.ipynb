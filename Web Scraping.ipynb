{
 "cells": [
  {
   "cell_type": "markdown",
   "metadata": {},
   "source": [
    "<Font Size = 5> **Web Scraping**"
   ]
  },
  {
   "cell_type": "code",
   "execution_count": 1,
   "metadata": {},
   "outputs": [],
   "source": [
    "# First I import the necessary packages\n",
    "import pandas as pd\n",
    "import sqlite3\n",
    "import requests\n",
    "import lxml.html"
   ]
  },
  {
   "cell_type": "code",
   "execution_count": 2,
   "metadata": {},
   "outputs": [],
   "source": [
    "r = requests.get(\"https://www.infoplease.com/us/world-war-i-primer/casualties-world-war-i\") #Now I pull the data from the website using request."
   ]
  },
  {
   "cell_type": "code",
   "execution_count": 3,
   "metadata": {},
   "outputs": [
    {
     "data": {
      "text/plain": [
       "<Response [200]>"
      ]
     },
     "execution_count": 3,
     "metadata": {},
     "output_type": "execute_result"
    }
   ],
   "source": [
    "r"
   ]
  },
  {
   "cell_type": "code",
   "execution_count": 5,
   "metadata": {},
   "outputs": [],
   "source": [
    "html                     = lxml.html.fromstring(r.text) \n",
    "ww1                      = html.get_element_by_id(\"A0004618\")\n",
    "tablebody                = ww1.getchildren()[0]"
   ]
  },
  {
   "cell_type": "code",
   "execution_count": 6,
   "metadata": {},
   "outputs": [
    {
     "data": {
      "text/plain": [
       "[<Element tbody at 0x123d09958>]"
      ]
     },
     "execution_count": 6,
     "metadata": {},
     "output_type": "execute_result"
    }
   ],
   "source": [
    "ww1.getchildren()"
   ]
  },
  {
   "cell_type": "code",
   "execution_count": 7,
   "metadata": {},
   "outputs": [
    {
     "data": {
      "text/plain": [
       "[<Element th at 0x123d09c78>,\n",
       " <Element th at 0x123d09cc8>,\n",
       " <Element th at 0x123d09d18>,\n",
       " <Element th at 0x123d09d68>,\n",
       " <Element th at 0x123d09db8>,\n",
       " <Element th at 0x123d09e08>]"
      ]
     },
     "execution_count": 7,
     "metadata": {},
     "output_type": "execute_result"
    }
   ],
   "source": [
    "tablebody.getchildren()[0].getchildren() #I have my table or so I think, and use getchildren just to confirm."
   ]
  },
  {
   "cell_type": "code",
   "execution_count": 8,
   "metadata": {},
   "outputs": [
    {
     "data": {
      "text/plain": [
       "'Belgium267,00013,71644,68634,65993,061'"
      ]
     },
     "execution_count": 8,
     "metadata": {},
     "output_type": "execute_result"
    }
   ],
   "source": [
    "tablebody.getchildren()[2].text_content() #Another way to confirm I am working with the table."
   ]
  },
  {
   "cell_type": "markdown",
   "metadata": {},
   "source": [
    "<Font Size = 5> **Creating the Dataframe**"
   ]
  },
  {
   "cell_type": "code",
   "execution_count": 9,
   "metadata": {},
   "outputs": [
    {
     "data": {
      "text/html": [
       "<div>\n",
       "<style scoped>\n",
       "    .dataframe tbody tr th:only-of-type {\n",
       "        vertical-align: middle;\n",
       "    }\n",
       "\n",
       "    .dataframe tbody tr th {\n",
       "        vertical-align: top;\n",
       "    }\n",
       "\n",
       "    .dataframe thead th {\n",
       "        text-align: right;\n",
       "    }\n",
       "</style>\n",
       "<table border=\"1\" class=\"dataframe\">\n",
       "  <thead>\n",
       "    <tr style=\"text-align: right;\">\n",
       "      <th></th>\n",
       "      <th>Country</th>\n",
       "      <th>Total_mobilized_forces</th>\n",
       "      <th>Killed_or_died</th>\n",
       "      <th>Wounded</th>\n",
       "      <th>Prisoners_or_missing</th>\n",
       "      <th>Total_casualties</th>\n",
       "    </tr>\n",
       "  </thead>\n",
       "  <tbody>\n",
       "    <tr>\n",
       "      <th>0</th>\n",
       "      <td>Austria-Hungary</td>\n",
       "      <td>7,800,000</td>\n",
       "      <td>1,200,000</td>\n",
       "      <td>3,620,000</td>\n",
       "      <td>2,200,000</td>\n",
       "      <td>7,020,000</td>\n",
       "    </tr>\n",
       "    <tr>\n",
       "      <th>1</th>\n",
       "      <td>Belgium</td>\n",
       "      <td>267,000</td>\n",
       "      <td>13,716</td>\n",
       "      <td>44,686</td>\n",
       "      <td>34,659</td>\n",
       "      <td>93,061</td>\n",
       "    </tr>\n",
       "    <tr>\n",
       "      <th>2</th>\n",
       "      <td>British Empire2</td>\n",
       "      <td>8,904,467</td>\n",
       "      <td>908,371</td>\n",
       "      <td>2,090,212</td>\n",
       "      <td>191,652</td>\n",
       "      <td>3,190,235</td>\n",
       "    </tr>\n",
       "    <tr>\n",
       "      <th>3</th>\n",
       "      <td>Bulgaria</td>\n",
       "      <td>1,200,000</td>\n",
       "      <td>87,500</td>\n",
       "      <td>152,390</td>\n",
       "      <td>27,029</td>\n",
       "      <td>266,919</td>\n",
       "    </tr>\n",
       "    <tr>\n",
       "      <th>4</th>\n",
       "      <td>France2</td>\n",
       "      <td>8,410,000</td>\n",
       "      <td>1,357,800</td>\n",
       "      <td>4,266,000</td>\n",
       "      <td>537,000</td>\n",
       "      <td>6,160,800</td>\n",
       "    </tr>\n",
       "    <tr>\n",
       "      <th>5</th>\n",
       "      <td>Germany</td>\n",
       "      <td>11,000,000</td>\n",
       "      <td>1,773,700</td>\n",
       "      <td>4,216,058</td>\n",
       "      <td>1,152,800</td>\n",
       "      <td>7,142,558</td>\n",
       "    </tr>\n",
       "    <tr>\n",
       "      <th>6</th>\n",
       "      <td>Greece</td>\n",
       "      <td>230,000</td>\n",
       "      <td>5,000</td>\n",
       "      <td>21,000</td>\n",
       "      <td>1,000</td>\n",
       "      <td>27,000</td>\n",
       "    </tr>\n",
       "    <tr>\n",
       "      <th>7</th>\n",
       "      <td>Italy</td>\n",
       "      <td>5,615,000</td>\n",
       "      <td>650,000</td>\n",
       "      <td>947,000</td>\n",
       "      <td>600,000</td>\n",
       "      <td>2,197,000</td>\n",
       "    </tr>\n",
       "    <tr>\n",
       "      <th>8</th>\n",
       "      <td>Japan</td>\n",
       "      <td>800,000</td>\n",
       "      <td>300</td>\n",
       "      <td>907</td>\n",
       "      <td>3</td>\n",
       "      <td>1,210</td>\n",
       "    </tr>\n",
       "    <tr>\n",
       "      <th>9</th>\n",
       "      <td>Montenegro</td>\n",
       "      <td>50,000</td>\n",
       "      <td>3,000</td>\n",
       "      <td>10,000</td>\n",
       "      <td>7,000</td>\n",
       "      <td>20,000</td>\n",
       "    </tr>\n",
       "    <tr>\n",
       "      <th>10</th>\n",
       "      <td>Portugal</td>\n",
       "      <td>100,000</td>\n",
       "      <td>7,222</td>\n",
       "      <td>13,751</td>\n",
       "      <td>12,318</td>\n",
       "      <td>33,291</td>\n",
       "    </tr>\n",
       "    <tr>\n",
       "      <th>11</th>\n",
       "      <td>Romania</td>\n",
       "      <td>750,000</td>\n",
       "      <td>335,706</td>\n",
       "      <td>120,000</td>\n",
       "      <td>80,000</td>\n",
       "      <td>535,706</td>\n",
       "    </tr>\n",
       "    <tr>\n",
       "      <th>12</th>\n",
       "      <td>Russia</td>\n",
       "      <td>12,000,000</td>\n",
       "      <td>1,700,000</td>\n",
       "      <td>4,950,000</td>\n",
       "      <td>2,500,000</td>\n",
       "      <td>9,150,000</td>\n",
       "    </tr>\n",
       "    <tr>\n",
       "      <th>13</th>\n",
       "      <td>Serbia</td>\n",
       "      <td>707,343</td>\n",
       "      <td>45,000</td>\n",
       "      <td>133,148</td>\n",
       "      <td>152,958</td>\n",
       "      <td>331,106</td>\n",
       "    </tr>\n",
       "    <tr>\n",
       "      <th>14</th>\n",
       "      <td>Turkey</td>\n",
       "      <td>2,850,000</td>\n",
       "      <td>325,000</td>\n",
       "      <td>400,000</td>\n",
       "      <td>250,000</td>\n",
       "      <td>975,000</td>\n",
       "    </tr>\n",
       "    <tr>\n",
       "      <th>15</th>\n",
       "      <td>United States</td>\n",
       "      <td>4,734,991</td>\n",
       "      <td>116,516</td>\n",
       "      <td>204,002</td>\n",
       "      <td>—</td>\n",
       "      <td>320,518</td>\n",
       "    </tr>\n",
       "  </tbody>\n",
       "</table>\n",
       "</div>"
      ],
      "text/plain": [
       "            Country Total_mobilized_forces Killed_or_died    Wounded  \\\n",
       "0   Austria-Hungary              7,800,000      1,200,000  3,620,000   \n",
       "1           Belgium                267,000         13,716     44,686   \n",
       "2   British Empire2              8,904,467        908,371  2,090,212   \n",
       "3          Bulgaria              1,200,000         87,500    152,390   \n",
       "4           France2              8,410,000      1,357,800  4,266,000   \n",
       "5           Germany             11,000,000      1,773,700  4,216,058   \n",
       "6            Greece                230,000          5,000     21,000   \n",
       "7             Italy              5,615,000        650,000    947,000   \n",
       "8             Japan                800,000            300        907   \n",
       "9        Montenegro                 50,000          3,000     10,000   \n",
       "10         Portugal                100,000          7,222     13,751   \n",
       "11          Romania                750,000        335,706    120,000   \n",
       "12           Russia             12,000,000      1,700,000  4,950,000   \n",
       "13           Serbia                707,343         45,000    133,148   \n",
       "14           Turkey              2,850,000        325,000    400,000   \n",
       "15    United States              4,734,991        116,516    204,002   \n",
       "\n",
       "   Prisoners_or_missing Total_casualties  \n",
       "0             2,200,000        7,020,000  \n",
       "1                34,659           93,061  \n",
       "2               191,652        3,190,235  \n",
       "3                27,029          266,919  \n",
       "4               537,000        6,160,800  \n",
       "5             1,152,800        7,142,558  \n",
       "6                 1,000           27,000  \n",
       "7               600,000        2,197,000  \n",
       "8                     3            1,210  \n",
       "9                 7,000           20,000  \n",
       "10               12,318           33,291  \n",
       "11               80,000          535,706  \n",
       "12            2,500,000        9,150,000  \n",
       "13              152,958          331,106  \n",
       "14              250,000          975,000  \n",
       "15                    —          320,518  "
      ]
     },
     "execution_count": 9,
     "metadata": {},
     "output_type": "execute_result"
    }
   ],
   "source": [
    "# at this point, I need to place my tabkle into a pandas dataframe so I can prepare to place the data into a sqlite3 database.\n",
    "\n",
    "data = {\n",
    "    \"Country\":                    [],\n",
    "    \"Total_mobilized_forces\":     [],\n",
    "    \"Killed_or_died\":             [],\n",
    "    \"Wounded\":                    [],\n",
    "    \"Prisoners_or_missing\":       [],\n",
    "    \"Total_casualties\":           []\n",
    "    \n",
    "}\n",
    "\n",
    "\n",
    "for row in tablebody.getchildren()[1:]:\n",
    "    cells = row.getchildren()\n",
    "    \n",
    "\n",
    "    data[\"Country\"].append(cells[0].text_content().strip())\n",
    "    data[\"Total_mobilized_forces\"].append(cells[1].text_content().strip())\n",
    "    data[\"Killed_or_died\"].append(cells[2].text_content().strip())\n",
    "    data[\"Wounded\"].append(cells[3].text_content().strip())\n",
    "    data[\"Prisoners_or_missing\"].append(cells[4].text_content().strip())\n",
    "    data[\"Total_casualties\"].append(cells[5].text_content().strip())\n",
    " \n",
    "  \n",
    "    \n",
    "    \n",
    "df = pd.DataFrame(data)\n",
    "df"
   ]
  },
  {
   "cell_type": "markdown",
   "metadata": {},
   "source": [
    "<Font Size = 5> **Selecting Data to Plcae into the SQLITE3 Database**"
   ]
  },
  {
   "cell_type": "code",
   "execution_count": 10,
   "metadata": {},
   "outputs": [
    {
     "name": "stdout",
     "output_type": "stream",
     "text": [
      "('Austria-Hungary', '7,800,000', '1,200,000', '3,620,000', '2,200,000', '7,020,000')\n",
      "('Belgium', '267,000', '13,716', '44,686', '34,659', '93,061')\n",
      "('British Empire2', '8,904,467', '908,371', '2,090,212', '191,652', '3,190,235')\n",
      "('France2', '8,410,000', '1,357,800', '4,266,000', '537,000', '6,160,800')\n",
      "('Germany', '11,000,000', '1,773,700', '4,216,058', '1,152,800', '7,142,558')\n",
      "('Russia', '12,000,000', '1,700,000', '4,950,000', '2,500,000', '9,150,000')\n",
      "('United States', '4,734,991', '116,516', '204,002', '—', '320,518')\n"
     ]
    }
   ],
   "source": [
    "for row in df[df.Country.isin([\"United States\", \"Russia\", \"Austria-Hungary\", \"Belgium\", \"British Empire2\", \"France2\", \"Germany\"])].itertuples():\n",
    "    print(row[1:])"
   ]
  },
  {
   "cell_type": "code",
   "execution_count": 11,
   "metadata": {},
   "outputs": [
    {
     "data": {
      "text/plain": [
       "6"
      ]
     },
     "execution_count": 11,
     "metadata": {},
     "output_type": "execute_result"
    }
   ],
   "source": [
    "len(row[1:])"
   ]
  },
  {
   "cell_type": "code",
   "execution_count": 12,
   "metadata": {},
   "outputs": [],
   "source": [
    "#Creating and connecting to the database.\n",
    "\n",
    "\n",
    "db = sqlite3.connect(\":memory:\")\n",
    "cursor = db.cursor()\n",
    "cursor.execute(\"\"\"\n",
    "CREATE TABLE WORLD_WAR_1(COUNTRY, TOTAL_MOBILIZED_FORCES, KILLED_OR_DIED, WOUNDED, PRISONERS_OR_MISSING, TOTAL_CASUALTIES)\n",
    "\"\"\")\n",
    "\n",
    "#I am only going to select some of the major players in World War One.\n",
    "\n",
    "for row in df[df.Country.isin([\"United_States\", \"Russia\", \"Austria-Hungary\", \"Belgium\", \"British_Empire2\", \"France2\", \"Germany\"])].itertuples():\n",
    "    \n",
    "    insert_sql_syntax = \"\"\"\n",
    "    INSERT INTO WORLD_WAR_1(COUNTRY, TOTAL_MOBILIZED_FORCES, KILLED_OR_DIED, WOUNDED, PRISONERS_OR_MISSING, TOTAL_CASUALTIES)\n",
    "    VALUES (?,?,?,?,?,?)\n",
    "    \"\"\"\n",
    "    cursor.execute(insert_sql_syntax, row[1:] )\n",
    "    \n",
    "       \n",
    "db.commit()"
   ]
  },
  {
   "cell_type": "code",
   "execution_count": 13,
   "metadata": {},
   "outputs": [
    {
     "name": "stdout",
     "output_type": "stream",
     "text": [
      "('Russia', '12,000,000', '1,700,000', '4,950,000', '2,500,000', '9,150,000')\n"
     ]
    }
   ],
   "source": [
    "#Time to select data from the sqlite3 database I created to see if it worked.\n",
    "\n",
    "for row in cursor.execute(\"\"\"\n",
    "    SELECT *\n",
    "    FROM WORLD_WAR_1\n",
    "    WHERE COUNTRY = \"Russia\"\n",
    "\"\"\"):\n",
    "    print(row)"
   ]
  },
  {
   "cell_type": "code",
   "execution_count": 14,
   "metadata": {},
   "outputs": [],
   "source": [
    "#Finally, I close my database so that it knows I am done working with it. \n",
    "db.close()"
   ]
  }
 ],
 "metadata": {
  "kernelspec": {
   "display_name": "Python 3",
   "language": "python",
   "name": "python3"
  },
  "language_info": {
   "codemirror_mode": {
    "name": "ipython",
    "version": 3
   },
   "file_extension": ".py",
   "mimetype": "text/x-python",
   "name": "python",
   "nbconvert_exporter": "python",
   "pygments_lexer": "ipython3",
   "version": "3.7.0"
  }
 },
 "nbformat": 4,
 "nbformat_minor": 2
}
